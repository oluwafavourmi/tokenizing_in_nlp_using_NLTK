{
 "cells": [
  {
   "cell_type": "code",
   "execution_count": 2,
   "metadata": {},
   "outputs": [],
   "source": [
    "corpus = \"\"\"Hello, my name is Kenny Akomolafe. I am a Machine Learning Engineer trying to upskill to learn Natural\n",
    "Language Processing. I am in need of a Machine Learning Job if any is available. Thanks.\n",
    "\"\"\""
   ]
  },
  {
   "cell_type": "code",
   "execution_count": 3,
   "metadata": {},
   "outputs": [
    {
     "data": {
      "text/plain": [
       "'Hello, my name is Kenny Akomolafe. I am a Machine Learning Engineer trying to upskill to learn Natural\\nLanguage Processing. I am in need of a Machine Learning Job if any is available. Thanks.\\n'"
      ]
     },
     "execution_count": 3,
     "metadata": {},
     "output_type": "execute_result"
    }
   ],
   "source": [
    "corpus"
   ]
  },
  {
   "cell_type": "code",
   "execution_count": 5,
   "metadata": {},
   "outputs": [],
   "source": [
    "#converting sentence into paragraphs\n",
    "from nltk.tokenize import sent_tokenize\n",
    "documents = sent_tokenize(corpus)"
   ]
  },
  {
   "cell_type": "code",
   "execution_count": 6,
   "metadata": {},
   "outputs": [
    {
     "data": {
      "text/plain": [
       "['Hello, my name is Kenny Akomolafe.',\n",
       " 'I am a Machine Learning Engineer trying to upskill to learn Natural\\nLanguage Processing.',\n",
       " 'I am in need of a Machine Learning Job if any is available.',\n",
       " 'Thanks.']"
      ]
     },
     "execution_count": 6,
     "metadata": {},
     "output_type": "execute_result"
    }
   ],
   "source": [
    "documents"
   ]
  },
  {
   "cell_type": "code",
   "execution_count": 7,
   "metadata": {},
   "outputs": [
    {
     "data": {
      "text/plain": [
       "['Hello',\n",
       " ',',\n",
       " 'my',\n",
       " 'name',\n",
       " 'is',\n",
       " 'Kenny',\n",
       " 'Akomolafe',\n",
       " '.',\n",
       " 'I',\n",
       " 'am',\n",
       " 'a',\n",
       " 'Machine',\n",
       " 'Learning',\n",
       " 'Engineer',\n",
       " 'trying',\n",
       " 'to',\n",
       " 'upskill',\n",
       " 'to',\n",
       " 'learn',\n",
       " 'Natural',\n",
       " 'Language',\n",
       " 'Processing',\n",
       " '.',\n",
       " 'I',\n",
       " 'am',\n",
       " 'in',\n",
       " 'need',\n",
       " 'of',\n",
       " 'a',\n",
       " 'Machine',\n",
       " 'Learning',\n",
       " 'Job',\n",
       " 'if',\n",
       " 'any',\n",
       " 'is',\n",
       " 'available',\n",
       " '.',\n",
       " 'Thanks',\n",
       " '.']"
      ]
     },
     "execution_count": 7,
     "metadata": {},
     "output_type": "execute_result"
    }
   ],
   "source": [
    "#convert paragraphs into words\n",
    "#convert sentence into words\n",
    "\n",
    "from nltk.tokenize import word_tokenize\n",
    "words = word_tokenize(corpus)\n",
    "words"
   ]
  },
  {
   "cell_type": "code",
   "execution_count": 11,
   "metadata": {},
   "outputs": [
    {
     "name": "stdout",
     "output_type": "stream",
     "text": [
      "['Hello', ',', 'my', 'name', 'is', 'Kenny', 'Akomolafe', '.']\n",
      "['I', 'am', 'a', 'Machine', 'Learning', 'Engineer', 'trying', 'to', 'upskill', 'to', 'learn', 'Natural', 'Language', 'Processing', '.']\n",
      "['I', 'am', 'in', 'need', 'of', 'a', 'Machine', 'Learning', 'Job', 'if', 'any', 'is', 'available', '.']\n",
      "['Thanks', '.']\n"
     ]
    }
   ],
   "source": [
    "for sentences in documents:\n",
    "    print(word_tokenize(sentences))"
   ]
  },
  {
   "cell_type": "code",
   "execution_count": null,
   "metadata": {},
   "outputs": [],
   "source": []
  }
 ],
 "metadata": {
  "kernelspec": {
   "display_name": "kenny",
   "language": "python",
   "name": "python3"
  },
  "language_info": {
   "codemirror_mode": {
    "name": "ipython",
    "version": 3
   },
   "file_extension": ".py",
   "mimetype": "text/x-python",
   "name": "python",
   "nbconvert_exporter": "python",
   "pygments_lexer": "ipython3",
   "version": "3.11.5"
  }
 },
 "nbformat": 4,
 "nbformat_minor": 2
}
